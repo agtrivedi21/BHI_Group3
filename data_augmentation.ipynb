{
 "cells": [
  {
   "cell_type": "code",
   "execution_count": 1,
   "id": "f580d1de-d5bf-42a0-9bc8-cfce49b56608",
   "metadata": {},
   "outputs": [],
   "source": [
    "import os\n",
    "import numpy as np\n",
    "import SimpleITK as sitk\n",
    "import matplotlib.pyplot as plt"
   ]
  },
  {
   "cell_type": "code",
   "execution_count": 5,
   "id": "4558ff4d-d8b4-4bd7-ad7d-d48b5e5a625a",
   "metadata": {},
   "outputs": [
    {
     "name": "stdout",
     "output_type": "stream",
     "text": [
      "CT-0 contains 254 images. CT-1 contains 684 images. CT-2 contains 125 images. CT-3 contains 45 images. CT-4 contains 2 images.\n"
     ]
    }
   ],
   "source": [
    "CT0 = os.listdir(os.path.join(os.getcwd(), 'data', 'studies', 'CT-0'))\n",
    "CT1 = os.listdir(os.path.join(os.getcwd(), 'data', 'studies', 'CT-1'))\n",
    "CT2 = os.listdir(os.path.join(os.getcwd(), 'data', 'studies', 'CT-2'))\n",
    "CT3 = os.listdir(os.path.join(os.getcwd(), 'data', 'studies', 'CT-3'))\n",
    "CT4 = os.listdir(os.path.join(os.getcwd(), 'data', 'studies', 'CT-4'))\n",
    "\n",
    "print('CT-0 contains', len(CT0), 'images. CT-1 contains', len(CT1), 'images. CT-2 contains', \n",
    "      len(CT2), 'images. CT-3 contains', len(CT3), 'images. CT-4 contains', len(CT4), 'images.')"
   ]
  },
  {
   "cell_type": "code",
   "execution_count": null,
   "id": "54391f69-5b45-45b3-8bab-0bcdce8d0ca5",
   "metadata": {},
   "outputs": [],
   "source": []
  }
 ],
 "metadata": {
  "kernelspec": {
   "display_name": "Python 3 (ipykernel)",
   "language": "python",
   "name": "python3"
  },
  "language_info": {
   "codemirror_mode": {
    "name": "ipython",
    "version": 3
   },
   "file_extension": ".py",
   "mimetype": "text/x-python",
   "name": "python",
   "nbconvert_exporter": "python",
   "pygments_lexer": "ipython3",
   "version": "3.9.7"
  }
 },
 "nbformat": 4,
 "nbformat_minor": 5
}
