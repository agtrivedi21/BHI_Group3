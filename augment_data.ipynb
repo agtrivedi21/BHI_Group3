{
 "cells": [
  {
   "cell_type": "code",
   "execution_count": 3,
   "id": "f580d1de-d5bf-42a0-9bc8-cfce49b56608",
   "metadata": {},
   "outputs": [],
   "source": [
    "import os\n",
    "import numpy as np\n",
    "import SimpleITK as sitk\n",
    "import matplotlib.pyplot as plt\n",
    "from scipy import ndimage\n",
    "import random"
   ]
  },
  {
   "cell_type": "code",
   "execution_count": 4,
   "id": "4558ff4d-d8b4-4bd7-ad7d-d48b5e5a625a",
   "metadata": {},
   "outputs": [
    {
     "name": "stdout",
     "output_type": "stream",
     "text": [
      "CT-0 contains 254 images. CT-1 contains 684 images. CT-2 contains 125 images. CT-3 contains 45 images. CT-4 contains 2 images.\n"
     ]
    }
   ],
   "source": [
    "CT0_path = os.path.join(os.getcwd(), 'data', 'studies', 'CT-0')\n",
    "CT0 = os.listdir(CT0_path)\n",
    "CT1_path = os.path.join(os.getcwd(), 'data', 'studies', 'CT-1')\n",
    "CT1 = os.listdir(CT1_path)\n",
    "CT2_path = os.path.join(os.getcwd(), 'data', 'studies', 'CT-2')\n",
    "CT2 = os.listdir(CT2_path)\n",
    "CT3_path = os.path.join(os.getcwd(), 'data', 'studies', 'CT-3')\n",
    "CT3 = os.listdir(CT3_path)\n",
    "CT4_path = os.path.join(os.getcwd(), 'data', 'studies', 'CT-4')\n",
    "CT4 = os.listdir(CT4_path)\n",
    "\n",
    "print('CT-0 contains', len(CT0), 'images. CT-1 contains', len(CT1), 'images. CT-2 contains', \n",
    "      len(CT2), 'images. CT-3 contains', len(CT3), 'images. CT-4 contains', len(CT4), 'images.')"
   ]
  },
  {
   "cell_type": "markdown",
   "id": "ff8e7c32-f67e-40ad-beb2-d0c957751db7",
   "metadata": {
    "tags": []
   },
   "source": [
    "### keeping 125 images per class - CT-2 will be unchanged, CT-4 will be ignored"
   ]
  },
  {
   "cell_type": "code",
   "execution_count": 5,
   "id": "95120cad-43d6-4ed8-874f-1df7ec1573ae",
   "metadata": {},
   "outputs": [],
   "source": [
    "CT0_keep = np.asarray(random.sample(range(len(CT0)), 125))\n",
    "CT1_keep = np.asarray(random.sample(range(len(CT1)), 125))\n",
    "CT2_keep = np.linspace(1, len(CT2), 125).astype('int')"
   ]
  },
  {
   "cell_type": "markdown",
   "id": "8c09adb1-1926-4fea-827a-090a8ebb74f3",
   "metadata": {},
   "source": [
    "#### CT-3 needs 80 new images: pick 40, rotate by 10 degrees, pick another 40, rotate by 5 degrees"
   ]
  },
  {
   "cell_type": "code",
   "execution_count": null,
   "id": "7c915afe-6c8d-4e67-8351-ed981a790f11",
   "metadata": {},
   "outputs": [],
   "source": [
    "rot_5deg = np.asarray(random.sample(range(len(CT3)), 40))\n",
    "rot_10deg = np.asarray(random.sample(range(len(CT3)), 40))\n",
    "\n",
    "for i in rot_5deg:\n",
    "    filename = CT3[i][:10] + '_rot5.npy'\n",
    "    temp = np.load(os.path.join(CT3_path, CT3[i]))\n",
    "    rot_im = ndimage.rotate(temp, 5)\n",
    "    np.save(os.path.join(CT3_path, filename), rot_im)\n",
    "    \n",
    "for j in rot_10deg:\n",
    "    filename = CT3[j][:10] + '_rot10.npy'\n",
    "    temp = np.load(os.path.join(CT3_path, CT3[j]))\n",
    "    rot_im = ndimage.rotate(temp, 10)\n",
    "    np.save(os.path.join(CT3_path, filename), rot_im)"
   ]
  },
  {
   "cell_type": "code",
   "execution_count": null,
   "id": "e8380afd-86d6-4cb1-9594-94b234765ee4",
   "metadata": {},
   "outputs": [],
   "source": [
    "CT3 = os.listdir(CT3_path)\n",
    "print('There are now', len(CT3), 'images in CT-3.')"
   ]
  }
 ],
 "metadata": {
  "kernelspec": {
   "display_name": "Python 3 (ipykernel)",
   "language": "python",
   "name": "python3"
  },
  "language_info": {
   "codemirror_mode": {
    "name": "ipython",
    "version": 3
   },
   "file_extension": ".py",
   "mimetype": "text/x-python",
   "name": "python",
   "nbconvert_exporter": "python",
   "pygments_lexer": "ipython3",
   "version": "3.9.7"
  }
 },
 "nbformat": 4,
 "nbformat_minor": 5
}
