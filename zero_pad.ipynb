{
 "cells": [
  {
   "cell_type": "code",
   "execution_count": 1,
   "id": "f580d1de-d5bf-42a0-9bc8-cfce49b56608",
   "metadata": {},
   "outputs": [],
   "source": [
    "import os\n",
    "import numpy as np\n",
    "import SimpleITK as sitk\n",
    "import matplotlib.pyplot as plt\n",
    "from scipy import ndimage\n",
    "import random"
   ]
  },
  {
   "cell_type": "code",
   "execution_count": 26,
   "id": "4558ff4d-d8b4-4bd7-ad7d-d48b5e5a625a",
   "metadata": {},
   "outputs": [],
   "source": [
    "temp0 = os.listdir(os.path.join(os.getcwd(), 'data', 'studies', 'CT-0'))\n",
    "ct0 = [os.path.join(os.getcwd(), 'data', 'studies', 'CT-0/') + i for i in temp0]\n",
    "\n",
    "temp1 = os.listdir(os.path.join(os.getcwd(), 'data', 'studies', 'CT-1'))\n",
    "ct1 = [os.path.join(os.getcwd(), 'data', 'studies', 'CT-1/') + i for i in temp1]\n",
    "\n",
    "temp2 = os.listdir(os.path.join(os.getcwd(), 'data', 'studies', 'CT-2'))\n",
    "ct2 = [os.path.join(os.getcwd(), 'data', 'studies', 'CT-2/') + i for i in temp2]\n",
    "\n",
    "temp3 = os.listdir(os.path.join(os.getcwd(), 'data', 'studies', 'CT-3'))\n",
    "ct3 = [os.path.join(os.getcwd(), 'data', 'studies', 'CT-3/') + i for i in temp3]\n",
    "\n",
    "print(f'CT-0 contains {len(ct0)} images. CT-1 contains {len(ct1)} images. CT-2 contains {len(ct2)} images. CT-3 contains {len(ct3)} images.')"
   ]
  },
  {
   "cell_type": "code",
   "execution_count": 29,
   "id": "ae0f3007",
   "metadata": {},
   "outputs": [
    {
     "data": {
      "text/plain": [
       "array(['/Users/anu/Desktop/Spring2022/BMED8813/project/BHI_Group3/data/studies/CT-0/study_0018.npy',\n",
       "       '/Users/anu/Desktop/Spring2022/BMED8813/project/BHI_Group3/data/studies/CT-0/study_0024.npy',\n",
       "       '/Users/anu/Desktop/Spring2022/BMED8813/project/BHI_Group3/data/studies/CT-0/study_0030.npy',\n",
       "       ...,\n",
       "       '/Users/anu/Desktop/Spring2022/BMED8813/project/BHI_Group3/data/studies/CT-3/study_1069.npy',\n",
       "       '/Users/anu/Desktop/Spring2022/BMED8813/project/BHI_Group3/data/studies/CT-3/study_1082.npy',\n",
       "       '/Users/anu/Desktop/Spring2022/BMED8813/project/BHI_Group3/data/studies/CT-3/study_1096.npy'],\n",
       "      dtype='<U90')"
      ]
     },
     "execution_count": 29,
     "metadata": {},
     "output_type": "execute_result"
    }
   ],
   "source": [
    "all_files = np.concatenate((ct0, ct1, ct2, ct3),axis=0)\n",
    "all_labels = [int(all_files[i][-16]) for i in range(len(all_files))]"
   ]
  },
  {
   "cell_type": "code",
   "execution_count": 56,
   "id": "ad1dc578",
   "metadata": {},
   "outputs": [
    {
     "name": "stdout",
     "output_type": "stream",
     "text": [
      "Maximum is 72, minimum is 72, median is 72.0\n"
     ]
    },
    {
     "data": {
      "image/png": "[encoded data removed]",
      "text/plain": [
       "<Figure size 432x288 with 1 Axes>"
      ]
     },
     "metadata": {
      "needs_background": "light"
     },
     "output_type": "display_data"
    }
   ],
   "source": [
    "all_slices = [np.shape(np.load(i))[0] for i in all_files]\n",
    "print(f'Maximum is {np.max(all_slices)}, minimum is {np.min(all_slices)}, median is {np.median(all_slices)}')\n",
    "plt.hist(all_slices);"
   ]
  },
  {
   "cell_type": "markdown",
   "id": "044b0c04-d4f7-49aa-befc-e7309db5a01f",
   "metadata": {},
   "source": [
    "## note: CT0, CT1, CT2, CT3 are arrays containing the filenames of the images to be used"
   ]
  },
  {
   "cell_type": "code",
   "execution_count": 11,
   "id": "27b42fd5-d2cd-4881-8680-224dcc618c50",
   "metadata": {},
   "outputs": [],
   "source": [
    "np.save(os.path.join(os.getcwd(), 'data/studies', 'CT0.npy'), np.asarray(ct0))\n",
    "np.save(os.path.join(os.getcwd(), 'data/studies', 'CT1.npy'), np.asarray(ct1))\n",
    "np.save(os.path.join(os.getcwd(), 'data/studies', 'CT2.npy'), np.asarray(ct2))\n",
    "np.save(os.path.join(os.getcwd(), 'data/studies', 'CT3.npy'), np.asarray(ct3))"
   ]
  },
  {
   "cell_type": "code",
   "execution_count": 23,
   "id": "dcb67664",
   "metadata": {},
   "outputs": [
    {
     "name": "stdout",
     "output_type": "stream",
     "text": [
      "Folder /Users/anu/Desktop/Spring2022/BMED8813/project/BHI_Group3/data/even_slices/0 already exists\n",
      "Folder /Users/anu/Desktop/Spring2022/BMED8813/project/BHI_Group3/data/even_slices/1 already exists\n",
      "Folder /Users/anu/Desktop/Spring2022/BMED8813/project/BHI_Group3/data/even_slices/2 already exists\n",
      "Folder /Users/anu/Desktop/Spring2022/BMED8813/project/BHI_Group3/data/even_slices/3 already exists\n"
     ]
    }
   ],
   "source": [
    "try:\n",
    "    data_path = os.path.join(os.getcwd(), 'data/even_slices/0')\n",
    "    os.mkdir(data_path)\n",
    "except: \n",
    "    print(\"Folder\", data_path, \"already exists\")\n",
    "    \n",
    "try:\n",
    "    data_path = os.path.join(os.getcwd(), 'data/even_slices/1')\n",
    "    os.mkdir(data_path)\n",
    "except: \n",
    "    print(\"Folder\", data_path, \"already exists\")\n",
    "    \n",
    "try:\n",
    "    data_path = os.path.join(os.getcwd(), 'data/even_slices/2')\n",
    "    os.mkdir(data_path)\n",
    "except: \n",
    "    print(\"Folder\", data_path, \"already exists\")\n",
    "    \n",
    "try:\n",
    "    data_path = os.path.join(os.getcwd(), 'data/even_slices/3')\n",
    "    os.mkdir(data_path)\n",
    "except: \n",
    "    print(\"Folder\", data_path, \"already exists\")"
   ]
  },
  {
   "cell_type": "code",
   "execution_count": 37,
   "id": "dd867cb8",
   "metadata": {},
   "outputs": [],
   "source": [
    "im = 0\n",
    "for i in all_slices:\n",
    "    im = np.load(i)\n",
    "    if im.shape[0] < np.max(all_slices):\n",
    "        im = np.pad(im, ((int((np.max(all_slices) - im.shape[0])/2), \n",
    "                          int((np.max(all_slices) - im.shape[0])/2)), (0,0), (0,0)))\n",
    "    if im.shape[0] % 2 == 1:\n",
    "        im = np.pad(im, ((1,0), (0,0), (0,0)))\n",
    "    np.save(os.path.join(os.getcwd(), 'data/even_slices', i[-16:]), im)"
   ]
  },
  {
   "cell_type": "code",
   "execution_count": 55,
   "id": "839ddad9",
   "metadata": {},
   "outputs": [
    {
     "name": "stdout",
     "output_type": "stream",
     "text": [
      "Maximum is 72, minimum is 72, median is 72.0\n"
     ]
    },
    {
     "data": {
      "text/plain": [
       "(array([   0.,    0.,    0.,    0.,    0., 1108.,    0.,    0.,    0.,\n",
       "           0.]),\n",
       " array([71.5, 71.6, 71.7, 71.8, 71.9, 72. , 72.1, 72.2, 72.3, 72.4, 72.5]),\n",
       " <BarContainer object of 10 artists>)"
      ]
     },
     "execution_count": 55,
     "metadata": {},
     "output_type": "execute_result"
    },
    {
     "data": {
      "image/png": "[encoded data removed]",
      "text/plain": [
       "<Figure size 432x288 with 1 Axes>"
      ]
     },
     "metadata": {
      "needs_background": "light"
     },
     "output_type": "display_data"
    }
   ],
   "source": [
    "temp0 = os.listdir(os.path.join(os.getcwd(), 'data', 'even_slices', '0'))\n",
    "ct0 = [os.path.join(os.getcwd(), 'data', 'even_slices', '0/') + i for i in temp0]\n",
    "\n",
    "temp1 = os.listdir(os.path.join(os.getcwd(), 'data', 'even_slices', '1'))\n",
    "ct1 = [os.path.join(os.getcwd(), 'data', 'even_slices', '1/') + i for i in temp1]\n",
    "\n",
    "temp2 = os.listdir(os.path.join(os.getcwd(), 'data', 'even_slices', '2'))\n",
    "ct2 = [os.path.join(os.getcwd(), 'data', 'even_slices', '2/') + i for i in temp2]\n",
    "\n",
    "temp3 = os.listdir(os.path.join(os.getcwd(), 'data', 'even_slices', '3'))\n",
    "ct3 = [os.path.join(os.getcwd(), 'data', 'even_slices', '3/') + i for i in temp3]\n",
    "\n",
    "all_files_padded = np.concatenate((ct0, ct1, ct2, ct3),axis=0)\n",
    "# all_labels = [int(all_files_padded[i][-16]) for i in range(len(all_files_padded))]\n",
    "\n",
    "all_slices_padded = [np.shape(np.load(i, allow_pickle=True))[0] for i in all_files_padded]\n",
    "print(f'Maximum is {np.max(all_slices_padded)}, minimum is {np.min(all_slices_padded)}, median is {np.median(all_slices_padded)}')\n",
    "plt.hist(all_slices_padded);"
   ]
  }
 ],
 "metadata": {
  "kernelspec": {
   "display_name": "Python 3",
   "language": "python",
   "name": "python3"
  },
  "language_info": {
   "codemirror_mode": {
    "name": "ipython",
    "version": 3
   },
   "file_extension": ".py",
   "mimetype": "text/x-python",
   "name": "python",
   "nbconvert_exporter": "python",
   "pygments_lexer": "ipython3",
   "version": "3.8.3"
  }
 },
 "nbformat": 4,
 "nbformat_minor": 5
}
