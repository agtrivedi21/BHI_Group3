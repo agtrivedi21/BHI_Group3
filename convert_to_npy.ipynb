{
 "cells": [
  {
   "cell_type": "code",
   "execution_count": 1,
   "id": "0c56bc9d-c5ab-454a-ac57-ca3dc41ac626",
   "metadata": {},
   "outputs": [],
   "source": [
    "import os\n",
    "import numpy as np\n",
    "import SimpleITK as sitk\n",
    "import matplotlib.pyplot as plt"
   ]
  },
  {
   "cell_type": "code",
   "execution_count": null,
   "id": "735ccd1b-465b-44e3-bae8-a1773a18852b",
   "metadata": {},
   "outputs": [],
   "source": [
    "data_path = os.path.join(os.getcwd(), 'data')\n",
    "\n",
    "try:\n",
    "    os.mkdir(data_path)\n",
    "except: \n",
    "    print(\"Folder\", data_path, \"already exists\")"
   ]
  },
  {
   "cell_type": "markdown",
   "id": "f7e2b035-72d3-46f0-8fda-2199ec2618ac",
   "metadata": {},
   "source": [
    "## Convert masks to numpy arrays, save to ../BHI_project/COVID19_1110/COVID19_1110/masks/"
   ]
  },
  {
   "cell_type": "code",
   "execution_count": 46,
   "id": "069e94ca-cee3-4730-a2ca-ba27b953552b",
   "metadata": {},
   "outputs": [
    {
     "name": "stdout",
     "output_type": "stream",
     "text": [
      "Folder /home/agtrivedi/repos/BHI_Group3/data already exists\n",
      "Folder /home/agtrivedi/repos/BHI_Group3/data/masks already exists\n"
     ]
    }
   ],
   "source": [
    "path_to_masks = '/mnt/c/Users/User1/Desktop/Class/BHI_project/COVID19_1110/COVID19_1110/masks/'\n",
    "masks_list = os.listdir(path_to_masks)\n",
    "    \n",
    "try:    \n",
    "    os.mkdir(os.path.join(data_path, 'masks'))    \n",
    "except: \n",
    "    print(\"Folder\", os.path.join(data_path, 'masks'),\"already exists\")\n",
    "        \n",
    "for mask in masks_list:\n",
    "    path = path_to_masks + mask\n",
    "    im = sitk.ReadImage(path)\n",
    "    im_array = sitk.GetArrayFromImage(im)\n",
    "    im_path = os.path.join(data_path, 'masks', path[-22:-7] + '.npy')\n",
    "    # np.save(im_path, im_array)"
   ]
  },
  {
   "cell_type": "markdown",
   "id": "1eb2f50e-def5-4674-a4c8-be5c74807947",
   "metadata": {},
   "source": [
    "## Convert studies to numpy arrays, save to ../BHI_project/COVID19_1110/COVID19_1110/studies/*"
   ]
  },
  {
   "cell_type": "code",
   "execution_count": 63,
   "id": "a2bd28b3-7925-4d31-9c08-f0edfb0cbdc8",
   "metadata": {},
   "outputs": [],
   "source": [
    "path_to_studies = '/mnt/c/Users/User1/Desktop/Class/BHI_project/COVID19_1110/COVID19_1110/studies/'\n",
    "studies_list = os.listdir(path_to_studies)\n",
    "\n",
    "try:\n",
    "    os.mkdir(os.path.join(data_path, 'studies'))\n",
    "except:\n",
    "    print(\"Folder\", os.path.join(data_path, 'studies'),\"already exists\")\n",
    "    \n",
    "CT0_list = os.listdir(path_to_studies + 'CT-0')\n",
    "CT1_list = os.listdir(path_to_studies + 'CT-1')\n",
    "CT2_list = os.listdir(path_to_studies + 'CT-2')\n",
    "CT3_list = os.listdir(path_to_studies + 'CT-3')\n",
    "CT4_list = os.listdir(path_to_studies + 'CT-4')\n",
    "    \n",
    "for CT_class in studies_list:\n",
    "    try:\n",
    "        os.mkdir(os.path.join(data_path, 'studies', CT_class))\n",
    "    except:\n",
    "        print(\"Folder\", os.path.join(data_path, 'studies', CT_class),\"already exists\")\n",
    "\n",
    "for CT0 in CT0_list:\n",
    "    path = path_to_studies + 'CT-0/' + CT0\n",
    "    im = sitk.ReadImage(path)\n",
    "    im_array = sitk.GetArrayFromImage(im)\n",
    "    im_path = os.path.join(data_path, 'studies', 'CT-0', path[-17:-7] + '.npy')\n",
    "    np.save(im_path, im_array)\n",
    "    \n",
    "for CT1 in CT1_list:\n",
    "    path = path_to_studies + 'CT-1/' + CT1\n",
    "    im = sitk.ReadImage(path)\n",
    "    im_array = sitk.GetArrayFromImage(im)\n",
    "    im_path = os.path.join(data_path, 'studies', 'CT-1', path[-17:-7] + '.npy')\n",
    "    np.save(im_path, im_array)    \n",
    "    \n",
    "for CT2 in CT2_list:\n",
    "    path = path_to_studies + 'CT-2/' + CT2\n",
    "    im = sitk.ReadImage(path)\n",
    "    im_array = sitk.GetArrayFromImage(im)\n",
    "    im_path = os.path.join(data_path, 'studies', 'CT-2', path[-17:-7] + '.npy')\n",
    "    np.save(im_path, im_array)    \n",
    "    \n",
    "for CT3 in CT3_list:\n",
    "    path = path_to_studies + 'CT-3/' + CT3\n",
    "    im = sitk.ReadImage(path)\n",
    "    im_array = sitk.GetArrayFromImage(im)\n",
    "    im_path = os.path.join(data_path, 'studies', 'CT-3', path[-17:-7] + '.npy')\n",
    "    np.save(im_path, im_array)\n",
    "    \n",
    "for CT4 in CT4_list:\n",
    "    path = path_to_studies + 'CT-4/' + CT4\n",
    "    im = sitk.ReadImage(path)\n",
    "    im_array = sitk.GetArrayFromImage(im)\n",
    "    im_path = os.path.join(data_path, 'studies', 'CT-4', path[-17:-7] + '.npy')\n",
    "    np.save(im_path, im_array)"
   ]
  }
 ],
 "metadata": {
  "kernelspec": {
   "display_name": "Python 3 (ipykernel)",
   "language": "python",
   "name": "python3"
  },
  "language_info": {
   "codemirror_mode": {
    "name": "ipython",
    "version": 3
   },
   "file_extension": ".py",
   "mimetype": "text/x-python",
   "name": "python",
   "nbconvert_exporter": "python",
   "pygments_lexer": "ipython3",
   "version": "3.9.7"
  }
 },
 "nbformat": 4,
 "nbformat_minor": 5
}
