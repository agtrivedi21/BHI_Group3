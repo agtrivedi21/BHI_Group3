{
 "cells": [
  {
   "cell_type": "code",
   "execution_count": 181,
   "id": "4b20b0a5",
   "metadata": {},
   "outputs": [
    {
     "name": "stdout",
     "output_type": "stream",
     "text": [
      "tensorflow version is: 2.7.0\n"
     ]
    }
   ],
   "source": [
    "import os\n",
    "import random\n",
    "from PIL import Image, ImageFilter\n",
    "import tensorflow as tf\n",
    "from tensorflow import keras\n",
    "from tensorflow.keras import models, layers\n",
    "from tensorflow.keras.preprocessing import image\n",
    "import numpy as np\n",
    "import matplotlib.pyplot as plt\n",
    "from tensorflow.keras import datasets, models, optimizers\n",
    "from tensorflow.random import set_seed\n",
    "from sklearn.model_selection import train_test_split\n",
    "\n",
    "seed_value = 1\n",
    "os.environ['PYTHONHASHSEED']=str(seed_value)\n",
    "\n",
    "random.seed(seed_value)\n",
    "np.random.seed(seed_value)\n",
    "set_seed(seed_value)\n",
    "\n",
    "\n",
    "print(\"tensorflow version is:\", tf.__version__)\n",
    "\n",
    "\n",
    "temp0 = os.listdir('/Users/anu/Desktop/Spring2022/BMED8813/project/BHI_Group3/data/even_slices/0/')\n",
    "ct0 = ['/Users/anu/Desktop/Spring2022/BMED8813/project/BHI_Group3/data/even_slices/0/' + i for i in temp0]\n",
    "\n",
    "temp1 = os.listdir('/Users/anu/Desktop/Spring2022/BMED8813/project/BHI_Group3/data/even_slices/1/')\n",
    "ct1 = ['/Users/anu/Desktop/Spring2022/BMED8813/project/BHI_Group3/data/even_slices/1/' + i for i in temp1]\n",
    "\n",
    "temp2 = os.listdir('/Users/anu/Desktop/Spring2022/BMED8813/project/BHI_Group3/data/even_slices/2/')\n",
    "ct2 = ['/Users/anu/Desktop/Spring2022/BMED8813/project/BHI_Group3/data/even_slices/2/' + i for i in temp2]\n",
    "\n",
    "temp3 = os.listdir('/Users/anu/Desktop/Spring2022/BMED8813/project/BHI_Group3/data/even_slices/3/')\n",
    "ct3 = ['/Users/anu/Desktop/Spring2022/BMED8813/project/BHI_Group3/data/even_slices/3/' + i for i in temp3]"
   ]
  },
  {
   "cell_type": "code",
   "execution_count": 178,
   "id": "353815bb",
   "metadata": {},
   "outputs": [
    {
     "name": "stdout",
     "output_type": "stream",
     "text": [
      "Total class 0 images: 125\n",
      "Total class 1 images: 125\n",
      "Total class 2 images: 125\n",
      "Total class 3 images: 45\n"
     ]
    }
   ],
   "source": [
    "print(\"Total class 0 images:\", len(ct0))\n",
    "print(\"Total class 1 images:\", len(ct1))\n",
    "print(\"Total class 2 images:\", len(ct2))\n",
    "print(\"Total class 3 images:\", len(ct3))"
   ]
  },
  {
   "cell_type": "code",
   "execution_count": 192,
   "id": "70eb2af3",
   "metadata": {},
   "outputs": [
    {
     "data": {
      "text/plain": [
       "numpy.ndarray"
      ]
     },
     "execution_count": 192,
     "metadata": {},
     "output_type": "execute_result"
    }
   ],
   "source": [
    "all_files = np.concatenate((ct0, ct1, ct2, ct3),axis=0)\n",
    "all_labels = [int(all_files[i][-16]) for i in range(len(all_files))]\n",
    "\n",
    "X = all_files\n",
    "y = np.asarray(all_labels)\n",
    "\n",
    "X_train, X_test, y_train, y_test = train_test_split(X, y, test_size=0.8)"
   ]
  },
  {
   "cell_type": "code",
   "execution_count": 193,
   "id": "8a3538aa",
   "metadata": {},
   "outputs": [
    {
     "name": "stdout",
     "output_type": "stream",
     "text": [
      "Maximum is 72, minimum is 72, median is 72.0\n"
     ]
    },
    {
     "data": {
      "text/plain": [
       "(array([  0.,   0.,   0.,   0.,   0., 420.,   0.,   0.,   0.,   0.]),\n",
       " array([71.5, 71.6, 71.7, 71.8, 71.9, 72. , 72.1, 72.2, 72.3, 72.4, 72.5]),\n",
       " <BarContainer object of 10 artists>)"
      ]
     },
     "execution_count": 193,
     "metadata": {},
     "output_type": "execute_result"
    },
    {
     "data": {
      "image/png": "[encoded data removed]",
      "text/plain": [
       "<Figure size 432x288 with 1 Axes>"
      ]
     },
     "metadata": {
      "needs_background": "light"
     },
     "output_type": "display_data"
    }
   ],
   "source": [
    "all_slices = [np.shape(np.load(i))[0] for i in all_files]\n",
    "print(f'Maximum is {np.max(all_slices)}, minimum is {np.min(all_slices)}, median is {np.median(all_slices)}')\n",
    "plt.hist(all_slices)"
   ]
  },
  {
   "cell_type": "code",
   "execution_count": 149,
   "id": "4d67cf88",
   "metadata": {},
   "outputs": [],
   "source": [
    "# zero pad all the data under max number of slices\n",
    "im = 0\n",
    "for i in all_files:\n",
    "    im = np.load(i)\n",
    "    if im.shape[0] < np.max(all_slices):\n",
    "        im = np.pad(im, ((int((np.max(all_slices) - im.shape[0])/2), \n",
    "                          int((np.max(all_slices) - im.shape[0])/2)), (0,0), (0,0)))\n",
    "    if im.shape[0] % 2 == 1:\n",
    "        im = np.pad(im, ((1,0), (0,0), (0,0)))\n",
    "    np.save(os.path.join(os.getcwd(), 'data/even_slices', i[-16:]), im)\n",
    "        \n",
    "# t = np.load('/Users/anu/Desktop/Spring2022/BMED8813/project/BHI_Group3/data/even_slices/study_0003.npy')\n"
   ]
  },
  {
   "cell_type": "code",
   "execution_count": 88,
   "id": "0dddecba",
   "metadata": {},
   "outputs": [
    {
     "name": "stdout",
     "output_type": "stream",
     "text": [
      "Model: \"sequential_10\"\n",
      "_________________________________________________________________\n",
      " Layer (type)                Output Shape              Param #   \n",
      "=================================================================\n",
      " conv2d_13 (Conv2D)          (None, 29, 510, 32)       147488    \n",
      "                                                                 \n",
      " max_pooling2d_11 (MaxPoolin  (None, 14, 255, 32)      0         \n",
      " g2D)                                                            \n",
      "                                                                 \n",
      " flatten_8 (Flatten)         (None, 114240)            0         \n",
      "                                                                 \n",
      " dense_16 (Dense)            (None, 168)               19192488  \n",
      "                                                                 \n",
      " dense_17 (Dense)            (None, 4)                 676       \n",
      "                                                                 \n",
      "=================================================================\n",
      "Total params: 19,340,652\n",
      "Trainable params: 19,340,652\n",
      "Non-trainable params: 0\n",
      "_________________________________________________________________\n",
      "None\n",
      "Epoch 1/20\n",
      "WARNING:tensorflow:Model was constructed with shape (None, 31, 512, 512) for input KerasTensor(type_spec=TensorSpec(shape=(None, 31, 512, 512), dtype=tf.float32, name='conv2d_13_input'), name='conv2d_13_input', description=\"created by layer 'conv2d_13_input'\"), but it was called on an input with incompatible shape (None,).\n"
     ]
    },
    {
     "ename": "ValueError",
     "evalue": "in user code:\n\n    File \"/Users/anu/opt/anaconda3/lib/python3.8/site-packages/keras/engine/training.py\", line 878, in train_function  *\n        return step_function(self, iterator)\n    File \"/Users/anu/opt/anaconda3/lib/python3.8/site-packages/keras/engine/training.py\", line 867, in step_function  **\n        outputs = model.distribute_strategy.run(run_step, args=(data,))\n    File \"/Users/anu/opt/anaconda3/lib/python3.8/site-packages/keras/engine/training.py\", line 860, in run_step  **\n        outputs = model.train_step(data)\n    File \"/Users/anu/opt/anaconda3/lib/python3.8/site-packages/keras/engine/training.py\", line 808, in train_step\n        y_pred = self(x, training=True)\n    File \"/Users/anu/opt/anaconda3/lib/python3.8/site-packages/keras/utils/traceback_utils.py\", line 67, in error_handler\n        raise e.with_traceback(filtered_tb) from None\n    File \"/Users/anu/opt/anaconda3/lib/python3.8/site-packages/keras/engine/input_spec.py\", line 227, in assert_input_compatibility\n        raise ValueError(f'Input {input_index} of layer \"{layer_name}\" '\n\n    ValueError: Exception encountered when calling layer \"sequential_10\" (type Sequential).\n    \n    Input 0 of layer \"conv2d_13\" is incompatible with the layer: expected min_ndim=4, found ndim=1. Full shape received: (None,)\n    \n    Call arguments received:\n      • inputs=tf.Tensor(shape=(None,), dtype=string)\n      • training=True\n      • mask=None\n",
     "output_type": "error",
     "traceback": [
      "\u001b[0;31m---------------------------------------------------------------------------\u001b[0m",
      "\u001b[0;31mValueError\u001b[0m                                Traceback (most recent call last)",
      "\u001b[0;32m<ipython-input-88-4de4375092b4>\u001b[0m in \u001b[0;36m<module>\u001b[0;34m\u001b[0m\n\u001b[1;32m     17\u001b[0m               metrics=['accuracy'])\n\u001b[1;32m     18\u001b[0m \u001b[0;34m\u001b[0m\u001b[0m\n\u001b[0;32m---> 19\u001b[0;31m history = model.fit(X_train, y_train, epochs=20, #batch_size=32,\n\u001b[0m\u001b[1;32m     20\u001b[0m                     validation_data=(X_test, y_test))\n\u001b[1;32m     21\u001b[0m \u001b[0;34m\u001b[0m\u001b[0m\n",
      "\u001b[0;32m~/opt/anaconda3/lib/python3.8/site-packages/keras/utils/traceback_utils.py\u001b[0m in \u001b[0;36merror_handler\u001b[0;34m(*args, **kwargs)\u001b[0m\n\u001b[1;32m     65\u001b[0m     \u001b[0;32mexcept\u001b[0m \u001b[0mException\u001b[0m \u001b[0;32mas\u001b[0m \u001b[0me\u001b[0m\u001b[0;34m:\u001b[0m  \u001b[0;31m# pylint: disable=broad-except\u001b[0m\u001b[0;34m\u001b[0m\u001b[0;34m\u001b[0m\u001b[0m\n\u001b[1;32m     66\u001b[0m       \u001b[0mfiltered_tb\u001b[0m \u001b[0;34m=\u001b[0m \u001b[0m_process_traceback_frames\u001b[0m\u001b[0;34m(\u001b[0m\u001b[0me\u001b[0m\u001b[0;34m.\u001b[0m\u001b[0m__traceback__\u001b[0m\u001b[0;34m)\u001b[0m\u001b[0;34m\u001b[0m\u001b[0;34m\u001b[0m\u001b[0m\n\u001b[0;32m---> 67\u001b[0;31m       \u001b[0;32mraise\u001b[0m \u001b[0me\u001b[0m\u001b[0;34m.\u001b[0m\u001b[0mwith_traceback\u001b[0m\u001b[0;34m(\u001b[0m\u001b[0mfiltered_tb\u001b[0m\u001b[0;34m)\u001b[0m \u001b[0;32mfrom\u001b[0m \u001b[0;32mNone\u001b[0m\u001b[0;34m\u001b[0m\u001b[0;34m\u001b[0m\u001b[0m\n\u001b[0m\u001b[1;32m     68\u001b[0m     \u001b[0;32mfinally\u001b[0m\u001b[0;34m:\u001b[0m\u001b[0;34m\u001b[0m\u001b[0;34m\u001b[0m\u001b[0m\n\u001b[1;32m     69\u001b[0m       \u001b[0;32mdel\u001b[0m \u001b[0mfiltered_tb\u001b[0m\u001b[0;34m\u001b[0m\u001b[0;34m\u001b[0m\u001b[0m\n",
      "\u001b[0;32m~/opt/anaconda3/lib/python3.8/site-packages/tensorflow/python/framework/func_graph.py\u001b[0m in \u001b[0;36mautograph_handler\u001b[0;34m(*args, **kwargs)\u001b[0m\n\u001b[1;32m   1127\u001b[0m           \u001b[0;32mexcept\u001b[0m \u001b[0mException\u001b[0m \u001b[0;32mas\u001b[0m \u001b[0me\u001b[0m\u001b[0;34m:\u001b[0m  \u001b[0;31m# pylint:disable=broad-except\u001b[0m\u001b[0;34m\u001b[0m\u001b[0;34m\u001b[0m\u001b[0m\n\u001b[1;32m   1128\u001b[0m             \u001b[0;32mif\u001b[0m \u001b[0mhasattr\u001b[0m\u001b[0;34m(\u001b[0m\u001b[0me\u001b[0m\u001b[0;34m,\u001b[0m \u001b[0;34m\"ag_error_metadata\"\u001b[0m\u001b[0;34m)\u001b[0m\u001b[0;34m:\u001b[0m\u001b[0;34m\u001b[0m\u001b[0;34m\u001b[0m\u001b[0m\n\u001b[0;32m-> 1129\u001b[0;31m               \u001b[0;32mraise\u001b[0m \u001b[0me\u001b[0m\u001b[0;34m.\u001b[0m\u001b[0mag_error_metadata\u001b[0m\u001b[0;34m.\u001b[0m\u001b[0mto_exception\u001b[0m\u001b[0;34m(\u001b[0m\u001b[0me\u001b[0m\u001b[0;34m)\u001b[0m\u001b[0;34m\u001b[0m\u001b[0;34m\u001b[0m\u001b[0m\n\u001b[0m\u001b[1;32m   1130\u001b[0m             \u001b[0;32melse\u001b[0m\u001b[0;34m:\u001b[0m\u001b[0;34m\u001b[0m\u001b[0;34m\u001b[0m\u001b[0m\n\u001b[1;32m   1131\u001b[0m               \u001b[0;32mraise\u001b[0m\u001b[0;34m\u001b[0m\u001b[0;34m\u001b[0m\u001b[0m\n",
      "\u001b[0;31mValueError\u001b[0m: in user code:\n\n    File \"/Users/anu/opt/anaconda3/lib/python3.8/site-packages/keras/engine/training.py\", line 878, in train_function  *\n        return step_function(self, iterator)\n    File \"/Users/anu/opt/anaconda3/lib/python3.8/site-packages/keras/engine/training.py\", line 867, in step_function  **\n        outputs = model.distribute_strategy.run(run_step, args=(data,))\n    File \"/Users/anu/opt/anaconda3/lib/python3.8/site-packages/keras/engine/training.py\", line 860, in run_step  **\n        outputs = model.train_step(data)\n    File \"/Users/anu/opt/anaconda3/lib/python3.8/site-packages/keras/engine/training.py\", line 808, in train_step\n        y_pred = self(x, training=True)\n    File \"/Users/anu/opt/anaconda3/lib/python3.8/site-packages/keras/utils/traceback_utils.py\", line 67, in error_handler\n        raise e.with_traceback(filtered_tb) from None\n    File \"/Users/anu/opt/anaconda3/lib/python3.8/site-packages/keras/engine/input_spec.py\", line 227, in assert_input_compatibility\n        raise ValueError(f'Input {input_index} of layer \"{layer_name}\" '\n\n    ValueError: Exception encountered when calling layer \"sequential_10\" (type Sequential).\n    \n    Input 0 of layer \"conv2d_13\" is incompatible with the layer: expected min_ndim=4, found ndim=1. Full shape received: (None,)\n    \n    Call arguments received:\n      • inputs=tf.Tensor(shape=(None,), dtype=string)\n      • training=True\n      • mask=None\n"
     ]
    }
   ],
   "source": [
    "model = models.Sequential() \n",
    "\n",
    "model.add(layers.Conv2D(32, (3, 3), activation='relu', input_shape=(31, 512, 512)))\n",
    "model.add(layers.MaxPooling2D((2, 2)))\n",
    "\n",
    "model.add(layers.Flatten()) \n",
    "\n",
    "model.add(layers.Dense(168, activation='relu'))\n",
    "model.add(layers.Dense(4)) # final Dense layer has 4 neurons representing the 4 classes\n",
    "\n",
    "### fill in more layers here ###\n",
    "\n",
    "print(model.summary())\n",
    "\n",
    "model.compile(optimizer='Adam',\n",
    "              loss=tf.keras.losses.SparseCategoricalCrossentropy(from_logits=True),\n",
    "              metrics=['accuracy'])\n",
    "\n",
    "history = model.fit(X_train, y_train, epochs=20, #batch_size=32,\n",
    "                    validation_data=(X_test, y_test))\n",
    "\n",
    "test_loss, test_acc = model.evaluate(X_test, y_test, verbose=1)"
   ]
  },
  {
   "cell_type": "code",
   "execution_count": null,
   "id": "4da9ecca",
   "metadata": {},
   "outputs": [],
   "source": []
  }
 ],
 "metadata": {
  "kernelspec": {
   "display_name": "Python 3",
   "language": "python",
   "name": "python3"
  },
  "language_info": {
   "codemirror_mode": {
    "name": "ipython",
    "version": 3
   },
   "file_extension": ".py",
   "mimetype": "text/x-python",
   "name": "python",
   "nbconvert_exporter": "python",
   "pygments_lexer": "ipython3",
   "version": "3.8.3"
  }
 },
 "nbformat": 4,
 "nbformat_minor": 5
}
