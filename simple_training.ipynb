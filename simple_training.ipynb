{
 "cells": [
  {
   "cell_type": "code",
   "execution_count": 19,
   "id": "f829b112",
   "metadata": {},
   "outputs": [
    {
     "name": "stdout",
     "output_type": "stream",
     "text": [
      "tensorflow version is: 2.8.0\n"
     ]
    }
   ],
   "source": [
    "import os\n",
    "import random\n",
    "from PIL import Image, ImageFilter\n",
    "import tensorflow as tf\n",
    "from tensorflow import keras\n",
    "from tensorflow.keras import models, layers\n",
    "from tensorflow.keras.preprocessing import image\n",
    "import numpy as np\n",
    "import matplotlib.pyplot as plt\n",
    "from tensorflow.keras import datasets, models, optimizers\n",
    "from tensorflow.random import set_seed\n",
    "from sklearn.model_selection import train_test_split\n",
    "from tensorflow import keras\n",
    "from tensorflow.keras import layers\n",
    "from tensorflow.keras.models import Sequential\n",
    "\n",
    "seed_value = 1\n",
    "os.environ['PYTHONHASHSEED']=str(seed_value)\n",
    "\n",
    "random.seed(seed_value)\n",
    "np.random.seed(seed_value)\n",
    "set_seed(seed_value)\n",
    "\n",
    "\n",
    "print(\"tensorflow version is:\", tf.__version__)\n",
    "\n",
    "temp0 = os.listdir(os.path.join(os.getcwd(), 'data', 'even_slices', '0'))\n",
    "ct0 = [os.path.join(os.getcwd(), 'data', 'even_slices', '0/') + i for i in temp0]\n",
    "\n",
    "temp1 = os.listdir(os.path.join(os.getcwd(), 'data', 'even_slices', '1'))\n",
    "ct1 = [os.path.join(os.getcwd(), 'data', 'even_slices', '1/') + i for i in temp1]\n",
    "\n",
    "temp2 = os.listdir(os.path.join(os.getcwd(), 'data', 'even_slices', '2'))\n",
    "ct2 = [os.path.join(os.getcwd(), 'data', 'even_slices', '2/') + i for i in temp2]\n",
    "\n",
    "temp3 = os.listdir(os.path.join(os.getcwd(), 'data', 'even_slices', '3'))\n",
    "ct3 = [os.path.join(os.getcwd(), 'data', 'even_slices', '3/') + i for i in temp3]\n"
   ]
  },
  {
   "cell_type": "code",
   "execution_count": 10,
   "id": "d0893c1b",
   "metadata": {},
   "outputs": [
    {
     "name": "stdout",
     "output_type": "stream",
     "text": [
      "Total class 0 images: 254\n",
      "Total class 1 images: 684\n",
      "Total class 2 images: 125\n",
      "Total class 3 images: 45\n"
     ]
    }
   ],
   "source": [
    "print(\"Total class 0 images:\", len(ct0))\n",
    "print(\"Total class 1 images:\", len(ct1))\n",
    "print(\"Total class 2 images:\", len(ct2))\n",
    "print(\"Total class 3 images:\", len(ct3))"
   ]
  },
  {
   "cell_type": "code",
   "execution_count": 13,
   "id": "f21ea21a",
   "metadata": {},
   "outputs": [],
   "source": [
    "all_files = np.concatenate((ct0, ct1, ct2, ct3),axis=0)\n",
    "all_labels = [int(all_files[i][-16]) for i in range(len(all_files))]\n",
    "\n",
    "# check that there's 72 slices per image\n",
    "# all_slices = [np.shape(np.load(i))[0] for i in all_files]\n",
    "# print(f'Maximum is {np.max(all_slices)}, minimum is {np.min(all_slices)}, median is {np.median(all_slices)}')"
   ]
  },
  {
   "cell_type": "code",
   "execution_count": 15,
   "id": "ea193439",
   "metadata": {},
   "outputs": [
    {
     "name": "stdout",
     "output_type": "stream",
     "text": [
      "Found 1108 files belonging to 4 classes.\n",
      "Using 887 files for training.\n"
     ]
    }
   ],
   "source": [
    "batch_size = 16\n",
    "img_height = 512\n",
    "img_width = 512\n",
    "\n",
    "train_ds = tf.keras.utils.image_dataset_from_directory(\n",
    "    os.path.join(os.getcwd(), 'data', 'even_slices'),\n",
    "    validation_split=0.2,\n",
    "    subset='training',\n",
    "    seed=seed_value,\n",
    "    image_size=(img_height, img_width),\n",
    "    batch_size=batch_size)"
   ]
  },
  {
   "cell_type": "code",
   "execution_count": 16,
   "id": "a19a45a1",
   "metadata": {},
   "outputs": [
    {
     "name": "stdout",
     "output_type": "stream",
     "text": [
      "Found 1108 files belonging to 4 classes.\n",
      "Using 221 files for validation.\n"
     ]
    }
   ],
   "source": [
    "val_ds = tf.keras.utils.image_dataset_from_directory(\n",
    "  os.path.join(os.getcwd(), 'data', 'even_slices'),\n",
    "  validation_split=0.2,\n",
    "  subset=\"validation\",\n",
    "  seed=123,\n",
    "  image_size=(img_height, img_width),\n",
    "  batch_size=batch_size)"
   ]
  },
  {
   "cell_type": "code",
   "execution_count": 17,
   "id": "fe7633ed",
   "metadata": {},
   "outputs": [
    {
     "name": "stdout",
     "output_type": "stream",
     "text": [
      "['0', '1', '2', '3']\n"
     ]
    }
   ],
   "source": [
    "class_names = train_ds.class_names\n",
    "print(class_names)"
   ]
  },
  {
   "cell_type": "code",
   "execution_count": 26,
   "id": "63c3a664",
   "metadata": {},
   "outputs": [],
   "source": [
    "num_classes = len(class_names)\n",
    "\n",
    "model = Sequential([\n",
    "  layers.Flatten(input_shape=(img_height, img_width,3)),\n",
    "#   layers.Conv2D(16, 3, padding='same', activation='relu'),\n",
    "#   layers.MaxPooling2D(),\n",
    "#   layers.Conv2D(32, 3, padding='same', activation='relu'),\n",
    "#   layers.MaxPooling2D(),\n",
    "#   layers.Conv2D(64, 3, padding='same', activation='relu'),\n",
    "#   layers.MaxPooling2D(),\n",
    "#   layers.Flatten(),\n",
    "  layers.Dense(128, activation='relu'),\n",
    "  layers.Dense(num_classes)\n",
    "])"
   ]
  },
  {
   "cell_type": "code",
   "execution_count": 27,
   "id": "81c594f2",
   "metadata": {},
   "outputs": [
    {
     "name": "stdout",
     "output_type": "stream",
     "text": [
      "Model: \"sequential_3\"\n",
      "_________________________________________________________________\n",
      " Layer (type)                Output Shape              Param #   \n",
      "=================================================================\n",
      " flatten_4 (Flatten)         (None, 786432)            0         \n",
      "                                                                 \n",
      " dense_6 (Dense)             (None, 128)               100663424 \n",
      "                                                                 \n",
      " dense_7 (Dense)             (None, 4)                 516       \n",
      "                                                                 \n",
      "=================================================================\n",
      "Total params: 100,663,940\n",
      "Trainable params: 100,663,940\n",
      "Non-trainable params: 0\n",
      "_________________________________________________________________\n"
     ]
    }
   ],
   "source": [
    "model.summary()"
   ]
  },
  {
   "cell_type": "code",
   "execution_count": 29,
   "id": "dd2312b6",
   "metadata": {},
   "outputs": [],
   "source": [
    "model.compile(optimizer='adam',\n",
    "              loss=tf.keras.losses.SparseCategoricalCrossentropy(from_logits=True),\n",
    "              metrics=['accuracy'])"
   ]
  },
  {
   "cell_type": "code",
   "execution_count": 30,
   "id": "48897d40",
   "metadata": {},
   "outputs": [
    {
     "name": "stdout",
     "output_type": "stream",
     "text": [
      "Epoch 1/10\n",
      "56/56 [==============================] - 19s 317ms/step - loss: 49910.6484 - accuracy: 0.4318 - val_loss: 18872.3652 - val_accuracy: 0.6516\n",
      "Epoch 2/10\n",
      "56/56 [==============================] - 17s 310ms/step - loss: 13118.2764 - accuracy: 0.4870 - val_loss: 5758.6538 - val_accuracy: 0.3484\n",
      "Epoch 3/10\n",
      "56/56 [==============================] - 17s 307ms/step - loss: 10466.1250 - accuracy: 0.4803 - val_loss: 3536.5986 - val_accuracy: 0.6606\n",
      "Epoch 4/10\n",
      "56/56 [==============================] - 17s 308ms/step - loss: 10745.5312 - accuracy: 0.4667 - val_loss: 8026.5146 - val_accuracy: 0.6516\n",
      "Epoch 5/10\n",
      "56/56 [==============================] - 17s 309ms/step - loss: 6279.2603 - accuracy: 0.5163 - val_loss: 6689.0986 - val_accuracy: 0.6516\n",
      "Epoch 6/10\n",
      "56/56 [==============================] - 17s 308ms/step - loss: 6601.3682 - accuracy: 0.5141 - val_loss: 8028.3369 - val_accuracy: 0.2081\n",
      "Epoch 7/10\n",
      "56/56 [==============================] - 17s 309ms/step - loss: 3283.5618 - accuracy: 0.5344 - val_loss: 3438.6250 - val_accuracy: 0.2262\n",
      "Epoch 8/10\n",
      "56/56 [==============================] - 18s 312ms/step - loss: 4224.0488 - accuracy: 0.5321 - val_loss: 11051.5430 - val_accuracy: 0.2081\n",
      "Epoch 9/10\n",
      "56/56 [==============================] - 17s 307ms/step - loss: 7602.0361 - accuracy: 0.5434 - val_loss: 2957.1072 - val_accuracy: 0.6561\n",
      "Epoch 10/10\n",
      "56/56 [==============================] - 17s 306ms/step - loss: 4791.3467 - accuracy: 0.5085 - val_loss: 6024.6216 - val_accuracy: 0.6290\n"
     ]
    }
   ],
   "source": [
    "epochs=10\n",
    "history = model.fit(\n",
    "  train_ds,\n",
    "  validation_data=val_ds,\n",
    "  epochs=epochs\n",
    ")"
   ]
  },
  {
   "cell_type": "code",
   "execution_count": 31,
   "id": "85499ca0",
   "metadata": {},
   "outputs": [
    {
     "data": {
      "image/png": "[encoded data removed]",
      "text/plain": [
       "<Figure size 576x576 with 2 Axes>"
      ]
     },
     "metadata": {
      "needs_background": "light"
     },
     "output_type": "display_data"
    }
   ],
   "source": [
    "acc = history.history['accuracy']\n",
    "val_acc = history.history['val_accuracy']\n",
    "\n",
    "loss = history.history['loss']\n",
    "val_loss = history.history['val_loss']\n",
    "\n",
    "epochs_range = range(epochs)\n",
    "\n",
    "plt.figure(figsize=(8, 8))\n",
    "plt.subplot(1, 2, 1)\n",
    "plt.plot(epochs_range, acc, label='Training Accuracy')\n",
    "plt.plot(epochs_range, val_acc, label='Validation Accuracy')\n",
    "plt.legend(loc='lower right')\n",
    "plt.title('Training and Validation Accuracy')\n",
    "\n",
    "plt.subplot(1, 2, 2)\n",
    "plt.plot(epochs_range, loss, label='Training Loss')\n",
    "plt.plot(epochs_range, val_loss, label='Validation Loss')\n",
    "plt.legend(loc='upper right')\n",
    "plt.title('Training and Validation Loss')\n",
    "plt.show()"
   ]
  }
 ],
 "metadata": {
  "kernelspec": {
   "display_name": "Python 3 (ipykernel)",
   "language": "python",
   "name": "python3"
  },
  "language_info": {
   "codemirror_mode": {
    "name": "ipython",
    "version": 3
   },
   "file_extension": ".py",
   "mimetype": "text/x-python",
   "name": "python",
   "nbconvert_exporter": "python",
   "pygments_lexer": "ipython3",
   "version": "3.9.7"
  }
 },
 "nbformat": 4,
 "nbformat_minor": 5
}
