{
  "nbformat": 4,
  "nbformat_minor": 0,
  "metadata": {
    "colab": {
      "name": "pad_test.ipynb",
      "provenance": [],
      "authorship_tag": "ABX9TyNKItDiaywhkSEbwpelYTr6",
      "include_colab_link": true
    },
    "kernelspec": {
      "name": "python3",
      "display_name": "Python 3"
    },
    "language_info": {
      "name": "python"
    }
  },
  "cells": [
    {
      "cell_type": "markdown",
      "metadata": {
        "id": "view-in-github",
        "colab_type": "text"
      },
      "source": [
        "<a href=\"https://colab.research.google.com/github/agtrivedi21/BHI_Group3/blob/master/pad_test.ipynb\" target=\"_parent\"><img src=\"https://colab.research.google.com/assets/colab-badge.svg\" alt=\"Open In Colab\"/></a>"
      ]
    },
    {
      "cell_type": "code",
      "execution_count": null,
      "metadata": {
        "colab": {
          "base_uri": "https://localhost:8080/"
        },
        "id": "cDikWwV5NPYd",
        "outputId": "ff34da7b-c951-486e-e922-5cf1c25f9edb"
      },
      "outputs": [
        {
          "output_type": "stream",
          "name": "stdout",
          "text": [
            "Requirement already satisfied: simpleitk in /usr/local/lib/python3.7/dist-packages (2.1.1)\n"
          ]
        }
      ],
      "source": [
        "import os\n",
        "!pip install simpleitk\n",
        "import SimpleITK as sitk\n",
        "import numpy as np\n",
        "import matplotlib.pyplot as plt\n",
        "from scipy import ndimage\n",
        "import random\n",
        "from zipfile import ZipFile\n"
      ]
    },
    {
      "cell_type": "code",
      "source": [
        "file_name = 'COVID19_1110.zip'\n",
        "with ZipFile(file_name,\"r\") as zip: \n",
        "# zip.printdir(); # printing all contents in file \n",
        "\n",
        "  #print('Extracting all files') # notification of file extraction\n",
        "  all = zip.extractall() # extracting all files\n",
        "  "
      ],
      "metadata": {
        "colab": {
          "base_uri": "https://localhost:8080/",
          "height": 369
        },
        "id": "ZbVaOzVJQqLe",
        "outputId": "fc31c11a-58c7-4a3f-9552-ccf4018e641c"
      },
      "execution_count": null,
      "outputs": [
        {
          "output_type": "error",
          "ename": "FileNotFoundError",
          "evalue": "ignored",
          "traceback": [
            "\u001b[0;31m---------------------------------------------------------------------------\u001b[0m",
            "\u001b[0;31mFileNotFoundError\u001b[0m                         Traceback (most recent call last)",
            "\u001b[0;32m<ipython-input-7-8718213b8bad>\u001b[0m in \u001b[0;36m<module>\u001b[0;34m()\u001b[0m\n\u001b[1;32m      1\u001b[0m \u001b[0mfile_name\u001b[0m \u001b[0;34m=\u001b[0m \u001b[0;34m'COVID19_1110.zip'\u001b[0m\u001b[0;34m\u001b[0m\u001b[0;34m\u001b[0m\u001b[0m\n\u001b[0;32m----> 2\u001b[0;31m \u001b[0;32mwith\u001b[0m \u001b[0mZipFile\u001b[0m\u001b[0;34m(\u001b[0m\u001b[0mfile_name\u001b[0m\u001b[0;34m,\u001b[0m\u001b[0;34m\"r\"\u001b[0m\u001b[0;34m)\u001b[0m \u001b[0;32mas\u001b[0m \u001b[0mzip\u001b[0m\u001b[0;34m:\u001b[0m\u001b[0;34m\u001b[0m\u001b[0;34m\u001b[0m\u001b[0m\n\u001b[0m\u001b[1;32m      3\u001b[0m \u001b[0;31m# zip.printdir(); # printing all contents in file\u001b[0m\u001b[0;34m\u001b[0m\u001b[0;34m\u001b[0m\u001b[0;34m\u001b[0m\u001b[0m\n\u001b[1;32m      4\u001b[0m \u001b[0;34m\u001b[0m\u001b[0m\n\u001b[1;32m      5\u001b[0m   \u001b[0;31m#print('Extracting all files') # notification of file extraction\u001b[0m\u001b[0;34m\u001b[0m\u001b[0;34m\u001b[0m\u001b[0;34m\u001b[0m\u001b[0m\n",
            "\u001b[0;32m/usr/lib/python3.7/zipfile.py\u001b[0m in \u001b[0;36m__init__\u001b[0;34m(self, file, mode, compression, allowZip64, compresslevel)\u001b[0m\n\u001b[1;32m   1238\u001b[0m             \u001b[0;32mwhile\u001b[0m \u001b[0;32mTrue\u001b[0m\u001b[0;34m:\u001b[0m\u001b[0;34m\u001b[0m\u001b[0;34m\u001b[0m\u001b[0m\n\u001b[1;32m   1239\u001b[0m                 \u001b[0;32mtry\u001b[0m\u001b[0;34m:\u001b[0m\u001b[0;34m\u001b[0m\u001b[0;34m\u001b[0m\u001b[0m\n\u001b[0;32m-> 1240\u001b[0;31m                     \u001b[0mself\u001b[0m\u001b[0;34m.\u001b[0m\u001b[0mfp\u001b[0m \u001b[0;34m=\u001b[0m \u001b[0mio\u001b[0m\u001b[0;34m.\u001b[0m\u001b[0mopen\u001b[0m\u001b[0;34m(\u001b[0m\u001b[0mfile\u001b[0m\u001b[0;34m,\u001b[0m \u001b[0mfilemode\u001b[0m\u001b[0;34m)\u001b[0m\u001b[0;34m\u001b[0m\u001b[0;34m\u001b[0m\u001b[0m\n\u001b[0m\u001b[1;32m   1241\u001b[0m                 \u001b[0;32mexcept\u001b[0m \u001b[0mOSError\u001b[0m\u001b[0;34m:\u001b[0m\u001b[0;34m\u001b[0m\u001b[0;34m\u001b[0m\u001b[0m\n\u001b[1;32m   1242\u001b[0m                     \u001b[0;32mif\u001b[0m \u001b[0mfilemode\u001b[0m \u001b[0;32min\u001b[0m \u001b[0mmodeDict\u001b[0m\u001b[0;34m:\u001b[0m\u001b[0;34m\u001b[0m\u001b[0;34m\u001b[0m\u001b[0m\n",
            "\u001b[0;31mFileNotFoundError\u001b[0m: [Errno 2] No such file or directory: 'COVID19_1110.zip'"
          ]
        }
      ]
    },
    {
      "cell_type": "code",
      "source": [
        "temp0 = os.listdir(os.path.join(os.getcwd(), 'data', 'studies', 'CT-0'))\n",
        "ct0 = [os.path.join(os.getcwd(), 'data', 'studies', 'CT-0/') + i for i in temp0]\n",
        "\n",
        "temp1 = os.listdir(os.path.join(os.getcwd(), 'data', 'studies', 'CT-1'))\n",
        "ct1 = [os.path.join(os.getcwd(), 'data', 'studies', 'CT-1/') + i for i in temp1]\n",
        "\n",
        "temp2 = os.listdir(os.path.join(os.getcwd(), 'data', 'studies', 'CT-2'))\n",
        "ct2 = [os.path.join(os.getcwd(), 'data', 'studies', 'CT-2/') + i for i in temp2]\n",
        "\n",
        "temp3 = os.listdir(os.path.join(os.getcwd(), 'data', 'studies', 'CT-3'))\n",
        "ct3 = [os.path.join(os.getcwd(), 'data', 'studies', 'CT-3/') + i for i in temp3]\n",
        "\n",
        "print(f'CT-0 contains {len(ct0)} images. CT-1 contains {len(ct1)} images. CT-2 contains {len(ct2)} images. CT-3 contains {len(ct3)} images.')"
      ],
      "metadata": {
        "id": "K2X0mk-TONE5"
      },
      "execution_count": null,
      "outputs": []
    },
    {
      "cell_type": "code",
      "source": [
        "all_files = np.concatenate((ct0, ct1, ct2, ct3),axis=0)\n",
        "all_labels = [int(all_files[i][-16]) for i in range(len(all_files))]"
      ],
      "metadata": {
        "id": "9pzngS2NOQOp"
      },
      "execution_count": null,
      "outputs": []
    },
    {
      "cell_type": "code",
      "source": [
        "all_slices = [np.shape(np.load(i))[0] for i in all_files]\n",
        "print(f'Maximum is {np.max(all_slices)}, minimum is {np.min(all_slices)}, median is {np.median(all_slices)}')\n",
        "plt.hist(all_slices);"
      ],
      "metadata": {
        "id": "QvrXy_GCOR9W"
      },
      "execution_count": null,
      "outputs": []
    },
    {
      "cell_type": "code",
      "source": [
        "np.save(os.path.join(os.getcwd(), 'data/studies', 'CT0.npy'), np.asarray(ct0))\n",
        "np.save(os.path.join(os.getcwd(), 'data/studies', 'CT1.npy'), np.asarray(ct1))\n",
        "np.save(os.path.join(os.getcwd(), 'data/studies', 'CT2.npy'), np.asarray(ct2))\n",
        "np.save(os.path.join(os.getcwd(), 'data/studies', 'CT3.npy'), np.asarray(ct3))"
      ],
      "metadata": {
        "id": "xBSzJ9Q8OTp7"
      },
      "execution_count": null,
      "outputs": []
    },
    {
      "cell_type": "code",
      "source": [
        "try:\n",
        "    data_path = os.path.join(os.getcwd(), 'data/even_slices/0')\n",
        "    os.mkdir(data_path)\n",
        "except: \n",
        "    print(\"Folder\", data_path, \"already exists\")\n",
        "    \n",
        "try:\n",
        "    data_path = os.path.join(os.getcwd(), 'data/even_slices/1')\n",
        "    os.mkdir(data_path)\n",
        "except: \n",
        "    print(\"Folder\", data_path, \"already exists\")\n",
        "    \n",
        "try:\n",
        "    data_path = os.path.join(os.getcwd(), 'data/even_slices/2')\n",
        "    os.mkdir(data_path)\n",
        "except: \n",
        "    print(\"Folder\", data_path, \"already exists\")\n",
        "    \n",
        "try:\n",
        "    data_path = os.path.join(os.getcwd(), 'data/even_slices/3')\n",
        "    os.mkdir(data_path)\n",
        "except: \n",
        "    print(\"Folder\", data_path, \"already exists\")"
      ],
      "metadata": {
        "id": "gGVuHd7GOUH_"
      },
      "execution_count": null,
      "outputs": []
    },
    {
      "cell_type": "code",
      "source": [
        "all_files\n"
      ],
      "metadata": {
        "id": "Uiu8hGweOVyq"
      },
      "execution_count": null,
      "outputs": []
    },
    {
      "cell_type": "code",
      "source": [
        "im = 0\n",
        "for i in all_files:\n",
        "    im = np.load(i)\n",
        "    if im.shape[0] < np.max(all_slices):\n",
        "        im = np.pad(im, ((int((np.max(all_slices) - im.shape[0])/2), \n",
        "                          int((np.max(all_slices) - im.shape[0])/2)), (0,0), (0,0)))\n",
        "    if im.shape[0] % 2 == 1:\n",
        "        im = np.pad(im, ((1,0), (0,0), (0,0)))\n",
        "    np.save(os.path.join(os.getcwd(), 'data/even_slices', i[-16:]), im)"
      ],
      "metadata": {
        "id": "jPX_ofUlOXIp"
      },
      "execution_count": null,
      "outputs": []
    },
    {
      "cell_type": "code",
      "source": [
        "temp0 = os.listdir(os.path.join(os.getcwd(), 'data', 'even_slices', '0'))\n",
        "ct0 = [os.path.join(os.getcwd(), 'data', 'even_slices', '0/') + i for i in temp0]\n",
        "\n",
        "temp1 = os.listdir(os.path.join(os.getcwd(), 'data', 'even_slices', '1'))\n",
        "ct1 = [os.path.join(os.getcwd(), 'data', 'even_slices', '1/') + i for i in temp1]\n",
        "\n",
        "temp2 = os.listdir(os.path.join(os.getcwd(), 'data', 'even_slices', '2'))\n",
        "ct2 = [os.path.join(os.getcwd(), 'data', 'even_slices', '2/') + i for i in temp2]\n",
        "\n",
        "temp3 = os.listdir(os.path.join(os.getcwd(), 'data', 'even_slices', '3'))\n",
        "ct3 = [os.path.join(os.getcwd(), 'data', 'even_slices', '3/') + i for i in temp3]\n",
        "\n",
        "all_files_padded = np.concatenate((ct0, ct1, ct2, ct3),axis=0)\n",
        "# all_labels = [int(all_files_padded[i][-16]) for i in range(len(all_files_padded))]\n",
        "\n",
        "all_slices_padded = [np.shape(np.load(i, allow_pickle=True))[0] for i in all_files_padded]\n",
        "print(f'Maximum is {np.max(all_slices_padded)}, minimum is {np.min(all_slices_padded)}, median is {np.median(all_slices_padded)}')\n",
        "plt.hist(all_slices_padded);"
      ],
      "metadata": {
        "id": "59G3rcxiOYiU"
      },
      "execution_count": null,
      "outputs": []
    }
  ]
}